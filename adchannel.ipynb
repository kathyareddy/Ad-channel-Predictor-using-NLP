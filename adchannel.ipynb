{
  "nbformat": 4,
  "nbformat_minor": 0,
  "metadata": {
    "colab": {
      "provenance": []
    },
    "kernelspec": {
      "name": "python3",
      "display_name": "Python 3"
    },
    "language_info": {
      "name": "python"
    }
  },
  "cells": [
    {
      "cell_type": "markdown",
      "source": [
        "**Ad Channel Predictor Using NLP**\n",
        "Objective:\n",
        "The project predicts the best ad channel (Instagram, LinkedIn, Email, etc.) for a given ad text using Natural Language Processing (NLP).\n",
        "\n",
        "Tools Used:\n",
        "Python for coding.\n",
        "\n",
        "Pandas for handling the data.\n",
        "\n",
        "NLTK for cleaning and processing the text.\n",
        "\n",
        "Scikit-learn for creating a machine learning model.\n",
        "\n",
        "Gradio to create a simple web interface where users can input ad text and get predictions."
      ],
      "metadata": {
        "id": "XMxcLpF2KDd-"
      }
    },
    {
      "cell_type": "code",
      "source": [
        "pip install -q pandas scikit-learn nltk\n"
      ],
      "metadata": {
        "id": "griDsFhYKN_s"
      },
      "execution_count": 1,
      "outputs": []
    },
    {
      "cell_type": "code",
      "source": [
        "import pandas as pd\n",
        "import string\n",
        "import nltk\n",
        "from nltk.corpus import stopwords\n",
        "from nltk.tokenize import word_tokenize\n",
        "from sklearn.model_selection import train_test_split\n",
        "from sklearn.feature_extraction.text import TfidfVectorizer\n",
        "from sklearn.linear_model import LogisticRegression\n",
        "from sklearn.metrics import classification_report, confusion_matrix, accuracy_score\n",
        "\n",
        "# Download required NLTK resources\n",
        "nltk.download('punkt')\n",
        "nltk.download('stopwords')\n",
        "nltk.download('punkt_tab')\n",
        "\n",
        "# Load the dataset\n",
        "df = pd.read_csv(\"/content/drive/MyDrive/ad_channel_dataset.csv\")\n",
        "\n",
        "# Preprocess function\n",
        "def preprocess(text):\n",
        "    text = text.lower()\n",
        "    tokens = word_tokenize(text)\n",
        "    tokens = [t for t in tokens if t not in string.punctuation and t not in stopwords.words('english')]\n",
        "    return ' '.join(tokens)\n",
        "\n",
        "# Apply preprocessing\n",
        "df['clean_text'] = df['ad_text'].apply(preprocess)\n",
        "\n",
        "# TF-IDF Vectorization\n",
        "vectorizer = TfidfVectorizer()\n",
        "X = vectorizer.fit_transform(df['clean_text'])\n",
        "y = df['channel']\n",
        "\n",
        "# Train-Test Split\n",
        "X_train, X_test, y_train, y_test = train_test_split(X, y, test_size=0.2, random_state=42)\n",
        "\n",
        "# Train Model\n",
        "model = LogisticRegression(max_iter=1000)\n",
        "model.fit(X_train, y_train)\n",
        "\n",
        "# Predict & Evaluate\n",
        "y_pred = model.predict(X_test)\n",
        "print(\"Accuracy:\", accuracy_score(y_test, y_pred))\n",
        "print(\"\\nClassification Report:\\n\", classification_report(y_test, y_pred))\n",
        "print(\"\\nConfusion Matrix:\\n\", confusion_matrix(y_test, y_pred))\n",
        "\n",
        "# Predict on new ad text\n",
        "def predict_channel(ad_text):\n",
        "    cleaned = preprocess(ad_text)\n",
        "    vec = vectorizer.transform([cleaned])\n",
        "    return model.predict(vec)[0]\n",
        "\n",
        "# Example usage\n",
        "sample = \"Sign up for our free digital marketing webinar this Thursday!\"\n",
        "print(\"\\nRecommended channel:\", predict_channel(sample))\n"
      ],
      "metadata": {
        "colab": {
          "base_uri": "https://localhost:8080/"
        },
        "id": "hA-S3RcWK4P8",
        "outputId": "18010874-9199-4608-a6c4-00a051b3ba06"
      },
      "execution_count": 3,
      "outputs": [
        {
          "output_type": "stream",
          "name": "stderr",
          "text": [
            "[nltk_data] Downloading package punkt to /root/nltk_data...\n",
            "[nltk_data]   Package punkt is already up-to-date!\n",
            "[nltk_data] Downloading package stopwords to /root/nltk_data...\n",
            "[nltk_data]   Package stopwords is already up-to-date!\n",
            "[nltk_data] Downloading package punkt_tab to /root/nltk_data...\n",
            "[nltk_data]   Unzipping tokenizers/punkt_tab.zip.\n"
          ]
        },
        {
          "output_type": "stream",
          "name": "stdout",
          "text": [
            "Accuracy: 1.0\n",
            "\n",
            "Classification Report:\n",
            "               precision    recall  f1-score   support\n",
            "\n",
            "       Email       1.00      1.00      1.00        36\n",
            "    Facebook       1.00      1.00      1.00        35\n",
            "  Google Ads       1.00      1.00      1.00        25\n",
            "   Instagram       1.00      1.00      1.00        32\n",
            "    LinkedIn       1.00      1.00      1.00        19\n",
            "     Twitter       1.00      1.00      1.00        23\n",
            "\n",
            "    accuracy                           1.00       170\n",
            "   macro avg       1.00      1.00      1.00       170\n",
            "weighted avg       1.00      1.00      1.00       170\n",
            "\n",
            "\n",
            "Confusion Matrix:\n",
            " [[36  0  0  0  0  0]\n",
            " [ 0 35  0  0  0  0]\n",
            " [ 0  0 25  0  0  0]\n",
            " [ 0  0  0 32  0  0]\n",
            " [ 0  0  0  0 19  0]\n",
            " [ 0  0  0  0  0 23]]\n",
            "\n",
            "Recommended channel: Google Ads\n"
          ]
        }
      ]
    },
    {
      "cell_type": "code",
      "source": [
        "# --- Predicting from user input ---\n",
        "while True:\n",
        "    print(\"\\nEnter ad content (or type 'exit' to quit):\")\n",
        "    user_input = input(\"> \")\n",
        "    if user_input.lower() == 'exit':\n",
        "        break\n",
        "    predicted_channel = predict_channel(user_input)\n",
        "    print(\"✅ Recommended Channel:\", predicted_channel)\n"
      ],
      "metadata": {
        "colab": {
          "base_uri": "https://localhost:8080/"
        },
        "id": "yA5ZX_UDLU37",
        "outputId": "0539f9b9-f58c-4936-c9c6-0bebef0bac30"
      },
      "execution_count": 4,
      "outputs": [
        {
          "name": "stdout",
          "output_type": "stream",
          "text": [
            "\n",
            "Enter ad content (or type 'exit' to quit):\n",
            "> sneakers on sale\n",
            "✅ Recommended Channel: Google Ads\n",
            "\n",
            "Enter ad content (or type 'exit' to quit):\n",
            "> AI course\n",
            "✅ Recommended Channel: LinkedIn\n",
            "\n",
            "Enter ad content (or type 'exit' to quit):\n",
            "> exit\n"
          ]
        }
      ]
    },
    {
      "cell_type": "code",
      "source": [
        "pip install -q gradio\n"
      ],
      "metadata": {
        "id": "J4rXGsx-MMUN"
      },
      "execution_count": 6,
      "outputs": []
    },
    {
      "cell_type": "code",
      "source": [
        "import gradio as gr\n",
        "\n",
        "# Gradio prediction function\n",
        "def gradio_predict(ad_text):\n",
        "    cleaned = preprocess(ad_text)\n",
        "    vec = vectorizer.transform([cleaned])\n",
        "    prediction = model.predict(vec)[0]\n",
        "    return f\"✅ Recommended Ad Channel: {prediction}\"\n",
        "\n",
        "# Gradio interface\n",
        "demo = gr.Interface(\n",
        "    fn=gradio_predict,\n",
        "    inputs=gr.Textbox(lines=4, placeholder=\"Enter your ad content here...\"),\n",
        "    outputs=\"text\",\n",
        "    title=\"Ad Channel Predictor\",\n",
        "    description=\"Enter ad text to predict the best advertising channel (e.g., Instagram, LinkedIn, Email).\",\n",
        "    theme=\"default\"\n",
        ")\n",
        "\n",
        "demo.launch()\n"
      ],
      "metadata": {
        "colab": {
          "base_uri": "https://localhost:8080/",
          "height": 645
        },
        "id": "ST94BWiMMNin",
        "outputId": "94061bee-98ac-4b03-8533-5bc20a8402fc"
      },
      "execution_count": 7,
      "outputs": [
        {
          "output_type": "stream",
          "name": "stdout",
          "text": [
            "Running Gradio in a Colab notebook requires sharing enabled. Automatically setting `share=True` (you can turn this off by setting `share=False` in `launch()` explicitly).\n",
            "\n",
            "Colab notebook detected. To show errors in colab notebook, set debug=True in launch()\n",
            "* Running on public URL: https://a50dd768c29016dfe6.gradio.live\n",
            "\n",
            "This share link expires in 72 hours. For free permanent hosting and GPU upgrades, run `gradio deploy` from the terminal in the working directory to deploy to Hugging Face Spaces (https://huggingface.co/spaces)\n"
          ]
        },
        {
          "output_type": "display_data",
          "data": {
            "text/plain": [
              "<IPython.core.display.HTML object>"
            ],
            "text/html": [
              "<div><iframe src=\"https://a50dd768c29016dfe6.gradio.live\" width=\"100%\" height=\"500\" allow=\"autoplay; camera; microphone; clipboard-read; clipboard-write;\" frameborder=\"0\" allowfullscreen></iframe></div>"
            ]
          },
          "metadata": {}
        },
        {
          "output_type": "execute_result",
          "data": {
            "text/plain": []
          },
          "metadata": {},
          "execution_count": 7
        }
      ]
    }
  ]
}